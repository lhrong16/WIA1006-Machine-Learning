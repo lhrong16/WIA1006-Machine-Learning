{
  "nbformat": 4,
  "nbformat_minor": 0,
  "metadata": {
    "colab": {
      "provenance": [],
      "mount_file_id": "1hF1jd0h5od5LyQVMSigQdDICVrIPf6ND",
      "authorship_tag": "ABX9TyMWRoUr7YltfZ3JOD80D+1m",
      "include_colab_link": true
    },
    "kernelspec": {
      "name": "python3",
      "display_name": "Python 3"
    },
    "language_info": {
      "name": "python"
    }
  },
  "cells": [
    {
      "cell_type": "markdown",
      "metadata": {
        "id": "view-in-github",
        "colab_type": "text"
      },
      "source": [
        "<a href=\"https://colab.research.google.com/github/lhrong16/WIA1006-Machine-Learning/blob/main/week02.ipynb\" target=\"_parent\"><img src=\"https://colab.research.google.com/assets/colab-badge.svg\" alt=\"Open In Colab\"/></a>"
      ]
    },
    {
      "cell_type": "markdown",
      "source": [
        "# **Practical Week 2 (Data Pre-processing & Cleansing)**"
      ],
      "metadata": {
        "id": "A-mdoUe-WIVV"
      }
    },
    {
      "cell_type": "markdown",
      "source": [
        "1. Handle Missing Data\n",
        "* Removing of data (Banking_Marketing.csv)\n",
        "* Imputation (Banking_Marketing.csv)\n",
        "* Removing Outliers (german_credit_data.csv)\n",
        "\n",
        "2. Data Integration (student.csv & marks.csv)\n",
        "\n",
        "3. Data Transformation\n",
        "* Replacement of Categorical Data with Numbers (student.csv)\n",
        "* Label encoding (Banking_Marketing.csv)\n",
        "* Transforming Data of Different Scale (Wholesale customers data.csv)\n",
        "\n",
        "4. Data Discretization (Student_bucketing.csv)"
      ],
      "metadata": {
        "id": "VXglw0zpYA_r"
      }
    },
    {
      "cell_type": "code",
      "execution_count": 6,
      "metadata": {
        "colab": {
          "base_uri": "https://localhost:8080/",
          "height": 17
        },
        "id": "1PNm-dxhSx9k",
        "outputId": "a1057619-708e-4844-db8e-9ef995180f2a"
      },
      "outputs": [
        {
          "output_type": "display_data",
          "data": {
            "text/plain": [
              "<IPython.core.display.HTML object>"
            ],
            "text/html": [
              "\n",
              "  <style>\n",
              "    pre {\n",
              "        white-space: pre-wrap;\n",
              "    }\n",
              "  </style>\n",
              "  "
            ]
          },
          "metadata": {}
        }
      ],
      "source": [
        "# Line Wrapping in Collaboratory Google results\n",
        "# put this in the first cell of your notebook\n",
        "\n",
        "from IPython.display import HTML, display\n",
        "\n",
        "def set_css():\n",
        "  display(HTML('''\n",
        "  <style>\n",
        "    pre {\n",
        "        white-space: pre-wrap;\n",
        "    }\n",
        "  </style>\n",
        "  '''))\n",
        "get_ipython().events.register('pre_run_cell', set_css)"
      ]
    },
    {
      "cell_type": "markdown",
      "source": [
        "## Mount Google Drive\n"
      ],
      "metadata": {
        "id": "EYD2I1sVZEtO"
      }
    },
    {
      "cell_type": "markdown",
      "source": [
        "Important: Remember to re-mount for each time a new dataset is added to Google Drive"
      ],
      "metadata": {
        "id": "Or49_bIgZZgk"
      }
    },
    {
      "cell_type": "code",
      "source": [
        "import io\n",
        "import requests\n",
        "from google.colab import drive\n",
        "drive.mount('/content/drive', force_remount=True)"
      ],
      "metadata": {
        "colab": {
          "base_uri": "https://localhost:8080/",
          "height": 35
        },
        "id": "NzCPQZZWXG4S",
        "outputId": "c59ac49a-ccc5-4547-868b-4c3559cd9efc"
      },
      "execution_count": 7,
      "outputs": [
        {
          "output_type": "display_data",
          "data": {
            "text/plain": [
              "<IPython.core.display.HTML object>"
            ],
            "text/html": [
              "\n",
              "  <style>\n",
              "    pre {\n",
              "        white-space: pre-wrap;\n",
              "    }\n",
              "  </style>\n",
              "  "
            ]
          },
          "metadata": {}
        },
        {
          "output_type": "display_data",
          "data": {
            "text/plain": [
              "<IPython.core.display.HTML object>"
            ],
            "text/html": [
              "\n",
              "  <style>\n",
              "    pre {\n",
              "        white-space: pre-wrap;\n",
              "    }\n",
              "  </style>\n",
              "  "
            ]
          },
          "metadata": {}
        },
        {
          "output_type": "stream",
          "name": "stdout",
          "text": [
            "Mounted at /content/drive\n"
          ]
        }
      ]
    },
    {
      "cell_type": "markdown",
      "source": [
        "## 1. Handle Missing Data"
      ],
      "metadata": {
        "id": "Uq8X3RPWZyRs"
      }
    },
    {
      "cell_type": "markdown",
      "source": [
        "- Removing of data (Banking_Marketing.csv)\n",
        "- Imputation (Banking_Marketing.csv)\n",
        "- Removing Outliers (german_credit_data.csv)"
      ],
      "metadata": {
        "id": "lFPzl5yxZ4bf"
      }
    },
    {
      "cell_type": "code",
      "source": [
        "# Import dataset\n",
        "import pandas as pd\n",
        "DATA_DIR_1 = \"/content/drive/MyDrive/WIA1006 Machine Learning (Data Preprocessing and Cleaning))/Banking_Marketing.csv\"\n",
        "Banking_Marketing_df = pd.read_csv (DATA_DIR_1, header=0)"
      ],
      "metadata": {
        "colab": {
          "base_uri": "https://localhost:8080/",
          "height": 17
        },
        "id": "bikXOdGEXZuG",
        "outputId": "55ba39ff-bc08-4ff0-fcf2-27a93bb9ad5d"
      },
      "execution_count": 8,
      "outputs": [
        {
          "output_type": "display_data",
          "data": {
            "text/plain": [
              "<IPython.core.display.HTML object>"
            ],
            "text/html": [
              "\n",
              "  <style>\n",
              "    pre {\n",
              "        white-space: pre-wrap;\n",
              "    }\n",
              "  </style>\n",
              "  "
            ]
          },
          "metadata": {}
        },
        {
          "output_type": "display_data",
          "data": {
            "text/plain": [
              "<IPython.core.display.HTML object>"
            ],
            "text/html": [
              "\n",
              "  <style>\n",
              "    pre {\n",
              "        white-space: pre-wrap;\n",
              "    }\n",
              "  </style>\n",
              "  "
            ]
          },
          "metadata": {}
        }
      ]
    },
    {
      "cell_type": "markdown",
      "source": [
        "## 1.1 - Removing of Data"
      ],
      "metadata": {
        "id": "6FpuQC8GaDJ1"
      }
    },
    {
      "cell_type": "code",
      "source": [
        "# Determine the datatype of Each Column by using dtypes\n",
        "print (Banking_Marketing_df.dtypes)"
      ],
      "metadata": {
        "colab": {
          "base_uri": "https://localhost:8080/",
          "height": 416
        },
        "id": "gWcmSgAsXsij",
        "outputId": "ee2dc930-2e3f-48a7-e950-eb1727331cf3"
      },
      "execution_count": 9,
      "outputs": [
        {
          "output_type": "display_data",
          "data": {
            "text/plain": [
              "<IPython.core.display.HTML object>"
            ],
            "text/html": [
              "\n",
              "  <style>\n",
              "    pre {\n",
              "        white-space: pre-wrap;\n",
              "    }\n",
              "  </style>\n",
              "  "
            ]
          },
          "metadata": {}
        },
        {
          "output_type": "display_data",
          "data": {
            "text/plain": [
              "<IPython.core.display.HTML object>"
            ],
            "text/html": [
              "\n",
              "  <style>\n",
              "    pre {\n",
              "        white-space: pre-wrap;\n",
              "    }\n",
              "  </style>\n",
              "  "
            ]
          },
          "metadata": {}
        },
        {
          "output_type": "stream",
          "name": "stdout",
          "text": [
            "age               float64\n",
            "job                object\n",
            "marital            object\n",
            "education          object\n",
            "default            object\n",
            "housing            object\n",
            "loan               object\n",
            "contact            object\n",
            "month              object\n",
            "day_of_week        object\n",
            "duration          float64\n",
            "campaign            int64\n",
            "pdays               int64\n",
            "previous            int64\n",
            "poutcome           object\n",
            "emp_var_rate      float64\n",
            "cons_price_idx    float64\n",
            "cons_conf_idx     float64\n",
            "euribor3m         float64\n",
            "nr_employed       float64\n",
            "y                   int64\n",
            "dtype: object\n"
          ]
        }
      ]
    },
    {
      "cell_type": "code",
      "source": [
        "print(\"Find missing value of each column using isna()\")\n",
        "print (Banking_Marketing_df.isna().sum())"
      ],
      "metadata": {
        "colab": {
          "base_uri": "https://localhost:8080/",
          "height": 434
        },
        "id": "27W0piY2Xvnz",
        "outputId": "3f232c13-43b3-4fd1-8d5d-90ed9e2e8da4"
      },
      "execution_count": 10,
      "outputs": [
        {
          "output_type": "display_data",
          "data": {
            "text/plain": [
              "<IPython.core.display.HTML object>"
            ],
            "text/html": [
              "\n",
              "  <style>\n",
              "    pre {\n",
              "        white-space: pre-wrap;\n",
              "    }\n",
              "  </style>\n",
              "  "
            ]
          },
          "metadata": {}
        },
        {
          "output_type": "display_data",
          "data": {
            "text/plain": [
              "<IPython.core.display.HTML object>"
            ],
            "text/html": [
              "\n",
              "  <style>\n",
              "    pre {\n",
              "        white-space: pre-wrap;\n",
              "    }\n",
              "  </style>\n",
              "  "
            ]
          },
          "metadata": {}
        },
        {
          "output_type": "stream",
          "name": "stdout",
          "text": [
            "Find missing value of each column using isna()\n",
            "age               2\n",
            "job               0\n",
            "marital           0\n",
            "education         0\n",
            "default           0\n",
            "housing           0\n",
            "loan              0\n",
            "contact           6\n",
            "month             0\n",
            "day_of_week       0\n",
            "duration          7\n",
            "campaign          0\n",
            "pdays             0\n",
            "previous          0\n",
            "poutcome          0\n",
            "emp_var_rate      0\n",
            "cons_price_idx    0\n",
            "cons_conf_idx     0\n",
            "euribor3m         0\n",
            "nr_employed       0\n",
            "y                 0\n",
            "dtype: int64\n"
          ]
        }
      ]
    },
    {
      "cell_type": "code",
      "source": [
        "print(\"\\nRemove all rows with missing data by using dropna()\")\n",
        "data = Banking_Marketing_df.dropna ()\n",
        "print(data.isna().sum())"
      ],
      "metadata": {
        "colab": {
          "base_uri": "https://localhost:8080/",
          "height": 453
        },
        "id": "eXcGktRDXxTB",
        "outputId": "bd0ffbb3-9e01-4d89-fb85-a0d2018c615e"
      },
      "execution_count": 11,
      "outputs": [
        {
          "output_type": "display_data",
          "data": {
            "text/plain": [
              "<IPython.core.display.HTML object>"
            ],
            "text/html": [
              "\n",
              "  <style>\n",
              "    pre {\n",
              "        white-space: pre-wrap;\n",
              "    }\n",
              "  </style>\n",
              "  "
            ]
          },
          "metadata": {}
        },
        {
          "output_type": "display_data",
          "data": {
            "text/plain": [
              "<IPython.core.display.HTML object>"
            ],
            "text/html": [
              "\n",
              "  <style>\n",
              "    pre {\n",
              "        white-space: pre-wrap;\n",
              "    }\n",
              "  </style>\n",
              "  "
            ]
          },
          "metadata": {}
        },
        {
          "output_type": "stream",
          "name": "stdout",
          "text": [
            "\n",
            "Remove all rows with missing data by using dropna()\n",
            "age               0\n",
            "job               0\n",
            "marital           0\n",
            "education         0\n",
            "default           0\n",
            "housing           0\n",
            "loan              0\n",
            "contact           0\n",
            "month             0\n",
            "day_of_week       0\n",
            "duration          0\n",
            "campaign          0\n",
            "pdays             0\n",
            "previous          0\n",
            "poutcome          0\n",
            "emp_var_rate      0\n",
            "cons_price_idx    0\n",
            "cons_conf_idx     0\n",
            "euribor3m         0\n",
            "nr_employed       0\n",
            "y                 0\n",
            "dtype: int64\n"
          ]
        }
      ]
    },
    {
      "cell_type": "code",
      "source": [
        "print(Banking_Marketing_df.isna().sum())"
      ],
      "metadata": {
        "colab": {
          "base_uri": "https://localhost:8080/",
          "height": 416
        },
        "id": "fBAzOb4gaNJe",
        "outputId": "b6f0bb51-5693-40c1-e690-2aeee9eb7968"
      },
      "execution_count": 12,
      "outputs": [
        {
          "output_type": "display_data",
          "data": {
            "text/plain": [
              "<IPython.core.display.HTML object>"
            ],
            "text/html": [
              "\n",
              "  <style>\n",
              "    pre {\n",
              "        white-space: pre-wrap;\n",
              "    }\n",
              "  </style>\n",
              "  "
            ]
          },
          "metadata": {}
        },
        {
          "output_type": "display_data",
          "data": {
            "text/plain": [
              "<IPython.core.display.HTML object>"
            ],
            "text/html": [
              "\n",
              "  <style>\n",
              "    pre {\n",
              "        white-space: pre-wrap;\n",
              "    }\n",
              "  </style>\n",
              "  "
            ]
          },
          "metadata": {}
        },
        {
          "output_type": "stream",
          "name": "stdout",
          "text": [
            "age               2\n",
            "job               0\n",
            "marital           0\n",
            "education         0\n",
            "default           0\n",
            "housing           0\n",
            "loan              0\n",
            "contact           6\n",
            "month             0\n",
            "day_of_week       0\n",
            "duration          7\n",
            "campaign          0\n",
            "pdays             0\n",
            "previous          0\n",
            "poutcome          0\n",
            "emp_var_rate      0\n",
            "cons_price_idx    0\n",
            "cons_conf_idx     0\n",
            "euribor3m         0\n",
            "nr_employed       0\n",
            "y                 0\n",
            "dtype: int64\n"
          ]
        }
      ]
    },
    {
      "cell_type": "markdown",
      "source": [
        "## 1.2 - Imputation"
      ],
      "metadata": {
        "id": "VVA_-EXXaQQQ"
      }
    },
    {
      "cell_type": "markdown",
      "source": [
        "Dataset: Banking_Marketing.csv"
      ],
      "metadata": {
        "id": "FfQjojXXauOJ"
      }
    },
    {
      "cell_type": "code",
      "source": [
        "# Computation of the Mean value by using mean ()\n",
        "mean_age = Banking_Marketing_df.age.mean ()\n",
        "print()\n",
        "print (\"Mean age: %.2f\" % mean_age)\n",
        "\n",
        "# Impute the missing data with its mean by using fillna ()\n",
        "Banking_Marketing_df.age.fillna(mean_age, inplace=True)\n",
        "print(\"\\nImpute missing data with mean value:\")\n",
        "print (Banking_Marketing_df.isna().sum())"
      ],
      "metadata": {
        "colab": {
          "base_uri": "https://localhost:8080/",
          "height": 634
        },
        "id": "RSuUmyHEaT_q",
        "outputId": "c1ceeafc-532b-4086-de01-13446b8cd151"
      },
      "execution_count": 13,
      "outputs": [
        {
          "output_type": "display_data",
          "data": {
            "text/plain": [
              "<IPython.core.display.HTML object>"
            ],
            "text/html": [
              "\n",
              "  <style>\n",
              "    pre {\n",
              "        white-space: pre-wrap;\n",
              "    }\n",
              "  </style>\n",
              "  "
            ]
          },
          "metadata": {}
        },
        {
          "output_type": "display_data",
          "data": {
            "text/plain": [
              "<IPython.core.display.HTML object>"
            ],
            "text/html": [
              "\n",
              "  <style>\n",
              "    pre {\n",
              "        white-space: pre-wrap;\n",
              "    }\n",
              "  </style>\n",
              "  "
            ]
          },
          "metadata": {}
        },
        {
          "output_type": "stream",
          "name": "stdout",
          "text": [
            "\n",
            "Mean age: 40.02\n",
            "\n",
            "Impute missing data with mean value:\n",
            "age               0\n",
            "job               0\n",
            "marital           0\n",
            "education         0\n",
            "default           0\n",
            "housing           0\n",
            "loan              0\n",
            "contact           6\n",
            "month             0\n",
            "day_of_week       0\n",
            "duration          7\n",
            "campaign          0\n",
            "pdays             0\n",
            "previous          0\n",
            "poutcome          0\n",
            "emp_var_rate      0\n",
            "cons_price_idx    0\n",
            "cons_conf_idx     0\n",
            "euribor3m         0\n",
            "nr_employed       0\n",
            "y                 0\n",
            "dtype: int64\n"
          ]
        },
        {
          "output_type": "stream",
          "name": "stderr",
          "text": [
            "<ipython-input-13-bec04e9785bd>:7: FutureWarning: A value is trying to be set on a copy of a DataFrame or Series through chained assignment using an inplace method.\n",
            "The behavior will change in pandas 3.0. This inplace method will never work because the intermediate object on which we are setting values always behaves as a copy.\n",
            "\n",
            "For example, when doing 'df[col].method(value, inplace=True)', try using 'df.method({col: value}, inplace=True)' or df[col] = df[col].method(value) instead, to perform the operation inplace on the original object.\n",
            "\n",
            "\n",
            "  Banking_Marketing_df.age.fillna(mean_age, inplace=True)\n"
          ]
        }
      ]
    },
    {
      "cell_type": "code",
      "source": [
        "# Computation of Median value by using median ()\n",
        "# used median because the 'duration' variable is too diverse\n",
        "median_duration = Banking_Marketing_df.duration.median()\n",
        "print (\"\\nMedian duration: %.2f\" % median_duration)\n",
        "\n",
        "# Impute the missing data with its median by using fillna ()\n",
        "Banking_Marketing_df.duration.fillna(median_duration, inplace=True)\n",
        "print(\"\\nImpute missing data with median value:\")\n",
        "print (Banking_Marketing_df.isna().sum())"
      ],
      "metadata": {
        "colab": {
          "base_uri": "https://localhost:8080/",
          "height": 634
        },
        "id": "dclmyWmRaadz",
        "outputId": "dec09471-0049-4b0c-9e2d-e315baf593af"
      },
      "execution_count": 14,
      "outputs": [
        {
          "output_type": "display_data",
          "data": {
            "text/plain": [
              "<IPython.core.display.HTML object>"
            ],
            "text/html": [
              "\n",
              "  <style>\n",
              "    pre {\n",
              "        white-space: pre-wrap;\n",
              "    }\n",
              "  </style>\n",
              "  "
            ]
          },
          "metadata": {}
        },
        {
          "output_type": "display_data",
          "data": {
            "text/plain": [
              "<IPython.core.display.HTML object>"
            ],
            "text/html": [
              "\n",
              "  <style>\n",
              "    pre {\n",
              "        white-space: pre-wrap;\n",
              "    }\n",
              "  </style>\n",
              "  "
            ]
          },
          "metadata": {}
        },
        {
          "output_type": "stream",
          "name": "stdout",
          "text": [
            "\n",
            "Median duration: 180.00\n",
            "\n",
            "Impute missing data with median value:\n",
            "age               0\n",
            "job               0\n",
            "marital           0\n",
            "education         0\n",
            "default           0\n",
            "housing           0\n",
            "loan              0\n",
            "contact           6\n",
            "month             0\n",
            "day_of_week       0\n",
            "duration          0\n",
            "campaign          0\n",
            "pdays             0\n",
            "previous          0\n",
            "poutcome          0\n",
            "emp_var_rate      0\n",
            "cons_price_idx    0\n",
            "cons_conf_idx     0\n",
            "euribor3m         0\n",
            "nr_employed       0\n",
            "y                 0\n",
            "dtype: int64\n"
          ]
        },
        {
          "output_type": "stream",
          "name": "stderr",
          "text": [
            "<ipython-input-14-b70db2655b5e>:7: FutureWarning: A value is trying to be set on a copy of a DataFrame or Series through chained assignment using an inplace method.\n",
            "The behavior will change in pandas 3.0. This inplace method will never work because the intermediate object on which we are setting values always behaves as a copy.\n",
            "\n",
            "For example, when doing 'df[col].method(value, inplace=True)', try using 'df.method({col: value}, inplace=True)' or df[col] = df[col].method(value) instead, to perform the operation inplace on the original object.\n",
            "\n",
            "\n",
            "  Banking_Marketing_df.duration.fillna(median_duration, inplace=True)\n"
          ]
        }
      ]
    },
    {
      "cell_type": "code",
      "source": [
        "# Computation of the Mean value by using mean ()\n",
        "mean_age = Banking_Marketing_df.age.mean ()\n",
        "print()\n",
        "print (\"Mean age: %.2f\" % mean_age)\n",
        "\n",
        "# Impute the missing data with its mean by using fillna ()\n",
        "Banking_Marketing_df.age.fillna(mean_age, inplace=True)\n",
        "print(\"\\nImpute missing data with mean value:\")\n",
        "print (Banking_Marketing_df.isna().sum())\n",
        "\n",
        "# Computation of Median value by using median ()\n",
        "# used median because the 'duration' variable is too diverse\n",
        "median_duration = Banking_Marketing_df.duration.median()\n",
        "print (\"\\nMedian duration: %.2f\" % median_duration)\n",
        "\n",
        "# Impute the missing data with its median by using fillna ()\n",
        "Banking_Marketing_df.duration.fillna(median_duration, inplace=True)\n",
        "print(\"\\nImpute missing data with median value:\")\n",
        "print (Banking_Marketing_df.isna().sum())\n",
        "\n",
        "# Impute Categorical Data with its mode by using mode ()\n",
        "# find out the mode\n",
        "mode_contact = Banking_Marketing_df.contact.mode()[0]\n",
        "print(\"\\nImpute categorical data with its mode:\")\n",
        "print (mode_contact)\n",
        "\n",
        "# impute using fillna. Used mode to find the most popular contact\n",
        "Banking_Marketing_df.contact.fillna (mode_contact, inplace = True)\n",
        "print(\"\\nImpute missing data with mode (most popular contact):\")\n",
        "print (Banking_Marketing_df.isna().sum())"
      ],
      "metadata": {
        "colab": {
          "base_uri": "https://localhost:8080/",
          "height": 1000
        },
        "id": "ySdRIyxZaef_",
        "outputId": "973bdc21-7f66-4521-dd6b-5c609b4d9cd6"
      },
      "execution_count": 15,
      "outputs": [
        {
          "output_type": "display_data",
          "data": {
            "text/plain": [
              "<IPython.core.display.HTML object>"
            ],
            "text/html": [
              "\n",
              "  <style>\n",
              "    pre {\n",
              "        white-space: pre-wrap;\n",
              "    }\n",
              "  </style>\n",
              "  "
            ]
          },
          "metadata": {}
        },
        {
          "output_type": "display_data",
          "data": {
            "text/plain": [
              "<IPython.core.display.HTML object>"
            ],
            "text/html": [
              "\n",
              "  <style>\n",
              "    pre {\n",
              "        white-space: pre-wrap;\n",
              "    }\n",
              "  </style>\n",
              "  "
            ]
          },
          "metadata": {}
        },
        {
          "output_type": "stream",
          "name": "stdout",
          "text": [
            "\n",
            "Mean age: 40.02\n",
            "\n",
            "Impute missing data with mean value:\n",
            "age               0\n",
            "job               0\n",
            "marital           0\n",
            "education         0\n",
            "default           0\n",
            "housing           0\n",
            "loan              0\n",
            "contact           6\n",
            "month             0\n",
            "day_of_week       0\n",
            "duration          0\n",
            "campaign          0\n",
            "pdays             0\n",
            "previous          0\n",
            "poutcome          0\n",
            "emp_var_rate      0\n",
            "cons_price_idx    0\n",
            "cons_conf_idx     0\n",
            "euribor3m         0\n",
            "nr_employed       0\n",
            "y                 0\n",
            "dtype: int64\n",
            "\n",
            "Median duration: 180.00\n",
            "\n",
            "Impute missing data with median value:\n",
            "age               0\n",
            "job               0\n",
            "marital           0\n",
            "education         0\n",
            "default           0\n",
            "housing           0\n",
            "loan              0\n",
            "contact           6\n",
            "month             0\n",
            "day_of_week       0\n",
            "duration          0\n",
            "campaign          0\n",
            "pdays             0\n",
            "previous          0\n",
            "poutcome          0\n",
            "emp_var_rate      0\n",
            "cons_price_idx    0\n",
            "cons_conf_idx     0\n",
            "euribor3m         0\n",
            "nr_employed       0\n",
            "y                 0\n",
            "dtype: int64\n",
            "\n",
            "Impute categorical data with its mode:\n",
            "cellular\n",
            "\n",
            "Impute missing data with mode (most popular contact):\n",
            "age               0\n",
            "job               0\n",
            "marital           0\n",
            "education         0\n",
            "default           0\n",
            "housing           0\n",
            "loan              0\n",
            "contact           0\n",
            "month             0\n",
            "day_of_week       0\n",
            "duration          0\n",
            "campaign          0\n",
            "pdays             0\n",
            "previous          0\n",
            "poutcome          0\n",
            "emp_var_rate      0\n",
            "cons_price_idx    0\n",
            "cons_conf_idx     0\n",
            "euribor3m         0\n",
            "nr_employed       0\n",
            "y                 0\n",
            "dtype: int64\n"
          ]
        },
        {
          "output_type": "stream",
          "name": "stderr",
          "text": [
            "<ipython-input-15-3e8c2878a846>:7: FutureWarning: A value is trying to be set on a copy of a DataFrame or Series through chained assignment using an inplace method.\n",
            "The behavior will change in pandas 3.0. This inplace method will never work because the intermediate object on which we are setting values always behaves as a copy.\n",
            "\n",
            "For example, when doing 'df[col].method(value, inplace=True)', try using 'df.method({col: value}, inplace=True)' or df[col] = df[col].method(value) instead, to perform the operation inplace on the original object.\n",
            "\n",
            "\n",
            "  Banking_Marketing_df.age.fillna(mean_age, inplace=True)\n",
            "<ipython-input-15-3e8c2878a846>:17: FutureWarning: A value is trying to be set on a copy of a DataFrame or Series through chained assignment using an inplace method.\n",
            "The behavior will change in pandas 3.0. This inplace method will never work because the intermediate object on which we are setting values always behaves as a copy.\n",
            "\n",
            "For example, when doing 'df[col].method(value, inplace=True)', try using 'df.method({col: value}, inplace=True)' or df[col] = df[col].method(value) instead, to perform the operation inplace on the original object.\n",
            "\n",
            "\n",
            "  Banking_Marketing_df.duration.fillna(median_duration, inplace=True)\n",
            "<ipython-input-15-3e8c2878a846>:28: FutureWarning: A value is trying to be set on a copy of a DataFrame or Series through chained assignment using an inplace method.\n",
            "The behavior will change in pandas 3.0. This inplace method will never work because the intermediate object on which we are setting values always behaves as a copy.\n",
            "\n",
            "For example, when doing 'df[col].method(value, inplace=True)', try using 'df.method({col: value}, inplace=True)' or df[col] = df[col].method(value) instead, to perform the operation inplace on the original object.\n",
            "\n",
            "\n",
            "  Banking_Marketing_df.contact.fillna (mode_contact, inplace = True)\n"
          ]
        }
      ]
    },
    {
      "cell_type": "markdown",
      "source": [
        "## 1.3 - Removing Outliers"
      ],
      "metadata": {
        "id": "-rJJanPUajY-"
      }
    },
    {
      "cell_type": "markdown",
      "source": [
        "Dataset: german_credit_data.csv"
      ],
      "metadata": {
        "id": "VgzhyqrIapQn"
      }
    },
    {
      "cell_type": "code",
      "source": [
        "DATA_DIR_2 = \"/content/drive/MyDrive/WIA1006 Machine Learning (Data Preprocessing and Cleaning))/german_credit_card.csv\"\n",
        "german_credit_df = pd.read_csv (DATA_DIR_2, header=0)"
      ],
      "metadata": {
        "colab": {
          "base_uri": "https://localhost:8080/",
          "height": 17
        },
        "id": "dBtpWnBKalZi",
        "outputId": "d384a63e-cb34-408a-ce62-79e8a5b4f3b9"
      },
      "execution_count": 16,
      "outputs": [
        {
          "output_type": "display_data",
          "data": {
            "text/plain": [
              "<IPython.core.display.HTML object>"
            ],
            "text/html": [
              "\n",
              "  <style>\n",
              "    pre {\n",
              "        white-space: pre-wrap;\n",
              "    }\n",
              "  </style>\n",
              "  "
            ]
          },
          "metadata": {}
        },
        {
          "output_type": "display_data",
          "data": {
            "text/plain": [
              "<IPython.core.display.HTML object>"
            ],
            "text/html": [
              "\n",
              "  <style>\n",
              "    pre {\n",
              "        white-space: pre-wrap;\n",
              "    }\n",
              "  </style>\n",
              "  "
            ]
          },
          "metadata": {}
        }
      ]
    },
    {
      "cell_type": "code",
      "source": [
        "german_credit_df.shape"
      ],
      "metadata": {
        "colab": {
          "base_uri": "https://localhost:8080/",
          "height": 35
        },
        "id": "cl_BOE3Ja5bA",
        "outputId": "25afc909-876e-444b-f412-26b373da10ef"
      },
      "execution_count": 17,
      "outputs": [
        {
          "output_type": "display_data",
          "data": {
            "text/plain": [
              "<IPython.core.display.HTML object>"
            ],
            "text/html": [
              "\n",
              "  <style>\n",
              "    pre {\n",
              "        white-space: pre-wrap;\n",
              "    }\n",
              "  </style>\n",
              "  "
            ]
          },
          "metadata": {}
        },
        {
          "output_type": "display_data",
          "data": {
            "text/plain": [
              "<IPython.core.display.HTML object>"
            ],
            "text/html": [
              "\n",
              "  <style>\n",
              "    pre {\n",
              "        white-space: pre-wrap;\n",
              "    }\n",
              "  </style>\n",
              "  "
            ]
          },
          "metadata": {}
        },
        {
          "output_type": "execute_result",
          "data": {
            "text/plain": [
              "(1000, 11)"
            ]
          },
          "metadata": {},
          "execution_count": 17
        }
      ]
    },
    {
      "cell_type": "code",
      "source": [
        "# Display a BoxPlot\n",
        "import pandas as pd\n",
        "import numpy as np\n",
        "import matplotlib\n",
        "import seaborn as sbn\n",
        "sbn.boxplot(german_credit_df['Age'])\n",
        "\n",
        "# Compute the Interquartile Range (IQR)\n",
        "Q1 = german_credit_df['Age'].quantile(0.25)\n",
        "Q3 = german_credit_df['Age'].quantile(0.75)\n",
        "IQR = Q3 - Q1\n",
        "print (\"IQR: %.2f\" %IQR)\n",
        "\n",
        "# Calculate the Lower and Upper Fence\n",
        "Lower_Fence = Q1 - (1.5 * IQR)\n",
        "print (\"Lower_Fence: %.2f\" %Lower_Fence)\n",
        "Upper_Fence = Q3 + (1.5 * IQR)\n",
        "print (\"Upper_Fence: %.2f\" %Upper_Fence)\n",
        "\n",
        "# Display Outliers and Filtering Out the Outliers\n",
        "print(\"\\nDisplay Outliers\")\n",
        "print (german_credit_df[((german_credit_df[\"Age\"] < Lower_Fence) | (german_credit_df[\"Age\"] > Upper_Fence))])\n",
        "\n",
        "# display data with outliers filtered out, use ~ to filter\n",
        "print(\"\\nDisplay data without outliers\")\n",
        "print (german_credit_df[~((german_credit_df[\"Age\"] < Lower_Fence) | (german_credit_df[\"Age\"] > Upper_Fence))])"
      ],
      "metadata": {
        "colab": {
          "base_uri": "https://localhost:8080/",
          "height": 1000
        },
        "id": "ZQ5AAJOXa8hL",
        "outputId": "ce1df96d-0989-4f22-e4cf-1f07cbef11bf"
      },
      "execution_count": 18,
      "outputs": [
        {
          "output_type": "display_data",
          "data": {
            "text/plain": [
              "<IPython.core.display.HTML object>"
            ],
            "text/html": [
              "\n",
              "  <style>\n",
              "    pre {\n",
              "        white-space: pre-wrap;\n",
              "    }\n",
              "  </style>\n",
              "  "
            ]
          },
          "metadata": {}
        },
        {
          "output_type": "display_data",
          "data": {
            "text/plain": [
              "<IPython.core.display.HTML object>"
            ],
            "text/html": [
              "\n",
              "  <style>\n",
              "    pre {\n",
              "        white-space: pre-wrap;\n",
              "    }\n",
              "  </style>\n",
              "  "
            ]
          },
          "metadata": {}
        },
        {
          "output_type": "stream",
          "name": "stdout",
          "text": [
            "IQR: 15.00\n",
            "Lower_Fence: 4.50\n",
            "Upper_Fence: 64.50\n",
            "\n",
            "Display Outliers\n",
            "     Unnamed: 0  Unnamed: 1  Age     Sex  Job Housing Saving accounts  \\\n",
            "0           NaN           0   67    male    2     own             NaN   \n",
            "75          NaN          75   66    male    3    free          little   \n",
            "137         NaN         137   66    male    1     own      quite rich   \n",
            "163         NaN         163   70    male    3    free          little   \n",
            "179         NaN         179   65    male    2     own          little   \n",
            "186         NaN         186   74  female    3    free          little   \n",
            "187         NaN         187   68    male    0    free          little   \n",
            "213         NaN         213   66    male    3     own          little   \n",
            "330         NaN         330   75    male    3    free          little   \n",
            "430         NaN         430   74    male    1     own          little   \n",
            "438         NaN         438   65    male    0     own          little   \n",
            "536         NaN         536   75  female    3     own             NaN   \n",
            "554         NaN         554   67  female    3     own          little   \n",
            "606         NaN         606   74    male    3     own          little   \n",
            "624         NaN         624   65    male    2    free          little   \n",
            "723         NaN         723   66  female    1     own      quite rich   \n",
            "756         NaN         756   74    male    0     own          little   \n",
            "774         NaN         774   66    male    0    free      quite rich   \n",
            "779         NaN         779   67  female    2     own          little   \n",
            "807         NaN         807   65    male    2     own             NaN   \n",
            "846         NaN         846   68    male    2    rent             NaN   \n",
            "883         NaN         883   65  female    0     own          little   \n",
            "917         NaN         917   68    male    3     own          little   \n",
            "\n",
            "    Checking account  Credit amount  Duration    Purpose  \n",
            "0             little           1169         6   radio/TV  \n",
            "75            little           1526        12        car  \n",
            "137         moderate            766        12   radio/TV  \n",
            "163         moderate           7308        10        car  \n",
            "179           little            571        21        car  \n",
            "186         moderate           5129         9        car  \n",
            "187         moderate           1175        16        car  \n",
            "213             rich           1908        30   business  \n",
            "330           little           6615        24        car  \n",
            "430              NaN           3448         5   business  \n",
            "438           little           3394        42    repairs  \n",
            "536           little           1374         6        car  \n",
            "554         moderate           1199         9  education  \n",
            "606              NaN           4526        24   business  \n",
            "624           little           2600        18   radio/TV  \n",
            "723         moderate            790         9   radio/TV  \n",
            "756             rich           1299         6        car  \n",
            "774             rich           1480        12        car  \n",
            "779         moderate           3872        18    repairs  \n",
            "807              NaN            930        12   radio/TV  \n",
            "846              NaN           6761        18        car  \n",
            "883              NaN           1098        18   radio/TV  \n",
            "917           little          14896         6        car  \n",
            "\n",
            "Display data without outliers\n",
            "     Unnamed: 0  Unnamed: 1  Age     Sex  Job Housing Saving accounts  \\\n",
            "1           NaN           1   22  female    2     own          little   \n",
            "2           NaN           2   49    male    1     own          little   \n",
            "3           NaN           3   45    male    2    free          little   \n",
            "4           NaN           4   53    male    2    free          little   \n",
            "5           NaN           5   35    male    1    free             NaN   \n",
            "..          ...         ...  ...     ...  ...     ...             ...   \n",
            "995         NaN         995   31  female    1     own          little   \n",
            "996         NaN         996   40    male    3     own          little   \n",
            "997         NaN         997   38    male    2     own          little   \n",
            "998         NaN         998   23    male    2    free          little   \n",
            "999         NaN         999   27    male    2     own        moderate   \n",
            "\n",
            "    Checking account  Credit amount  Duration              Purpose  \n",
            "1           moderate           5951        48             radio/TV  \n",
            "2                NaN           2096        12            education  \n",
            "3             little           7882        42  furniture/equipment  \n",
            "4             little           4870        24                  car  \n",
            "5                NaN           9055        36            education  \n",
            "..               ...            ...       ...                  ...  \n",
            "995              NaN           1736        12  furniture/equipment  \n",
            "996           little           3857        30                  car  \n",
            "997              NaN            804        12             radio/TV  \n",
            "998           little           1845        45             radio/TV  \n",
            "999         moderate           4576        45                  car  \n",
            "\n",
            "[977 rows x 11 columns]\n"
          ]
        },
        {
          "output_type": "display_data",
          "data": {
            "text/plain": [
              "<Figure size 640x480 with 1 Axes>"
            ],
            "image/png": "[encoded data removed]"
          },
          "metadata": {}
        }
      ]
    },
    {
      "cell_type": "markdown",
      "source": [
        "### Why Seaborn Boxplot still showing outliers, after removing the outliers?"
      ],
      "metadata": {
        "id": "34J6viUabKm2"
      }
    },
    {
      "cell_type": "markdown",
      "source": [
        "Seaborn uses inter-quartile range to detect the outliers. When you remove outliers, the number of data changes thus its quantile changes\n",
        "*   means lower range and upper range changes\n",
        "* thus it is again showing outliers"
      ],
      "metadata": {
        "id": "9oeZJvWPbOs9"
      }
    },
    {
      "cell_type": "markdown",
      "source": [
        "Let's investigate by computing a new quantile range after remove the outliers."
      ],
      "metadata": {
        "id": "OhCwBpmHbi0h"
      }
    },
    {
      "cell_type": "markdown",
      "source": [
        "Before remove outliers:\n",
        "* IQR: 15.00\n",
        "* Lower_Fence: 4.50\n",
        "* Upper_Fence: 64.50"
      ],
      "metadata": {
        "id": "PDWgv8Xzbkd3"
      }
    },
    {
      "cell_type": "markdown",
      "source": [
        "After remove outliers:\n",
        "* IQRb: 14.00\n",
        "* Lower_Fence_b: 6.00\n",
        "* Upper_Fence_b: 63.00"
      ],
      "metadata": {
        "id": "QhAnugo7buvq"
      }
    },
    {
      "cell_type": "markdown",
      "source": [
        "The new upper fence now is at 63, if you check the condition based on the new upper and lower fence, you will see there a 5 rows with outliers (german_credit_remOutliers[\"Age\"] < Lower_Fence_b) | (german_credit_remOutliers[\"Age\"] > Upper_Fence_b)\n",
        "\n",
        "But if you check the condition against the firstly calculated upper and lower fence, you will get an empty array print (german_credit_remOutliers[((german_credit_remOutliers[\"Age\"] < Lower_Fence) | (german_credit_remOutliers[\"Age\"] > Upper_Fence))])"
      ],
      "metadata": {
        "id": "Xx1-VsLcb6Qa"
      }
    },
    {
      "cell_type": "markdown",
      "source": [
        "What does it mean?"
      ],
      "metadata": {
        "id": "mLfNQv_wb-1o"
      }
    },
    {
      "cell_type": "markdown",
      "source": [
        "The outliers are actually removed (for the attribute age of the dataframe), but Seaborn boxplot shows the outliers based on the newly calculated inter-quartile range."
      ],
      "metadata": {
        "id": "y5ydBAlfcAo6"
      }
    },
    {
      "cell_type": "code",
      "source": [
        "german_credit_remOutliers = (german_credit_df[~((german_credit_df[\"Age\"] < Lower_Fence) | (german_credit_df[\"Age\"] > Upper_Fence))])\n",
        "german_credit_remOutliers.shape"
      ],
      "metadata": {
        "colab": {
          "base_uri": "https://localhost:8080/",
          "height": 35
        },
        "id": "uFW5ItDwcHWL",
        "outputId": "3bd37685-b2ca-4098-8568-23e98d70a25e"
      },
      "execution_count": 19,
      "outputs": [
        {
          "output_type": "display_data",
          "data": {
            "text/plain": [
              "<IPython.core.display.HTML object>"
            ],
            "text/html": [
              "\n",
              "  <style>\n",
              "    pre {\n",
              "        white-space: pre-wrap;\n",
              "    }\n",
              "  </style>\n",
              "  "
            ]
          },
          "metadata": {}
        },
        {
          "output_type": "display_data",
          "data": {
            "text/plain": [
              "<IPython.core.display.HTML object>"
            ],
            "text/html": [
              "\n",
              "  <style>\n",
              "    pre {\n",
              "        white-space: pre-wrap;\n",
              "    }\n",
              "  </style>\n",
              "  "
            ]
          },
          "metadata": {}
        },
        {
          "output_type": "execute_result",
          "data": {
            "text/plain": [
              "(977, 11)"
            ]
          },
          "metadata": {},
          "execution_count": 19
        }
      ]
    },
    {
      "cell_type": "code",
      "source": [
        "# Compute new quantile range after remove outliers\n",
        "# Compute the Interquartile Range (IQR)\n",
        "Q1b = german_credit_remOutliers['Age'].quantile(0.25)\n",
        "Q3b = german_credit_remOutliers['Age'].quantile(0.75)\n",
        "IQRb = Q3b - Q1b\n",
        "print (\"IQRb: %.2f\" %IQRb)\n",
        "\n",
        "# Calculate the Lower and Upper Fence\n",
        "Lower_Fence_b = Q1b - (1.5 * IQRb)\n",
        "print (\"Lower_Fence: %.2f\" %Lower_Fence_b)\n",
        "Upper_Fence_b = Q3 + (1.5 * IQRb)\n",
        "print (\"Upper_Fence: %.2f\" %Upper_Fence_b)"
      ],
      "metadata": {
        "colab": {
          "base_uri": "https://localhost:8080/",
          "height": 71
        },
        "id": "TWMq2nCscINQ",
        "outputId": "dbef3b2c-055b-471e-f510-0a772043e3cf"
      },
      "execution_count": 20,
      "outputs": [
        {
          "output_type": "display_data",
          "data": {
            "text/plain": [
              "<IPython.core.display.HTML object>"
            ],
            "text/html": [
              "\n",
              "  <style>\n",
              "    pre {\n",
              "        white-space: pre-wrap;\n",
              "    }\n",
              "  </style>\n",
              "  "
            ]
          },
          "metadata": {}
        },
        {
          "output_type": "display_data",
          "data": {
            "text/plain": [
              "<IPython.core.display.HTML object>"
            ],
            "text/html": [
              "\n",
              "  <style>\n",
              "    pre {\n",
              "        white-space: pre-wrap;\n",
              "    }\n",
              "  </style>\n",
              "  "
            ]
          },
          "metadata": {}
        },
        {
          "output_type": "stream",
          "name": "stdout",
          "text": [
            "IQRb: 14.00\n",
            "Lower_Fence: 6.00\n",
            "Upper_Fence: 63.00\n"
          ]
        }
      ]
    },
    {
      "cell_type": "code",
      "source": [
        "sbn.boxplot(german_credit_remOutliers['Age'])\n",
        "# Use showfliers=False if you want to disable outliers from boxplot"
      ],
      "metadata": {
        "colab": {
          "base_uri": "https://localhost:8080/",
          "height": 429
        },
        "id": "H_CvjpjXcMuL",
        "outputId": "0734c630-beee-40d5-ced7-c94e8a8b946f"
      },
      "execution_count": 21,
      "outputs": [
        {
          "output_type": "display_data",
          "data": {
            "text/plain": [
              "<IPython.core.display.HTML object>"
            ],
            "text/html": [
              "\n",
              "  <style>\n",
              "    pre {\n",
              "        white-space: pre-wrap;\n",
              "    }\n",
              "  </style>\n",
              "  "
            ]
          },
          "metadata": {}
        },
        {
          "output_type": "display_data",
          "data": {
            "text/plain": [
              "<IPython.core.display.HTML object>"
            ],
            "text/html": [
              "\n",
              "  <style>\n",
              "    pre {\n",
              "        white-space: pre-wrap;\n",
              "    }\n",
              "  </style>\n",
              "  "
            ]
          },
          "metadata": {}
        },
        {
          "output_type": "execute_result",
          "data": {
            "text/plain": [
              "<Axes: ylabel='Age'>"
            ]
          },
          "metadata": {},
          "execution_count": 21
        },
        {
          "output_type": "display_data",
          "data": {
            "text/plain": [
              "<Figure size 640x480 with 1 Axes>"
            ],
            "image/png": "[encoded data removed]"
          },
          "metadata": {}
        }
      ]
    },
    {
      "cell_type": "code",
      "source": [
        "# Check condition based on the firstly calculated IQR → results return empty df\n",
        "# Display Outliers and Filtering Out the Outliers\n",
        "print(\"\\nDisplay Outliers\")\n",
        "print (german_credit_remOutliers[((german_credit_remOutliers[\"Age\"] < Lower_Fence) | (german_credit_remOutliers[\"Age\"] > Upper_Fence))])"
      ],
      "metadata": {
        "colab": {
          "base_uri": "https://localhost:8080/",
          "height": 108
        },
        "id": "Ym4KKH0NcPHz",
        "outputId": "6d384124-aee4-43b1-f3e5-7f8fbe21ed93"
      },
      "execution_count": 22,
      "outputs": [
        {
          "output_type": "display_data",
          "data": {
            "text/plain": [
              "<IPython.core.display.HTML object>"
            ],
            "text/html": [
              "\n",
              "  <style>\n",
              "    pre {\n",
              "        white-space: pre-wrap;\n",
              "    }\n",
              "  </style>\n",
              "  "
            ]
          },
          "metadata": {}
        },
        {
          "output_type": "display_data",
          "data": {
            "text/plain": [
              "<IPython.core.display.HTML object>"
            ],
            "text/html": [
              "\n",
              "  <style>\n",
              "    pre {\n",
              "        white-space: pre-wrap;\n",
              "    }\n",
              "  </style>\n",
              "  "
            ]
          },
          "metadata": {}
        },
        {
          "output_type": "stream",
          "name": "stdout",
          "text": [
            "\n",
            "Display Outliers\n",
            "Empty DataFrame\n",
            "Columns: [Unnamed: 0, Unnamed: 1, Age, Sex, Job, Housing, Saving accounts, Checking account, Credit amount, Duration, Purpose]\n",
            "Index: []\n"
          ]
        }
      ]
    },
    {
      "cell_type": "code",
      "source": [
        "# Check condition based on the newly calculated IQR → results return 5 rows with outliers\n",
        "# Note that the age 64 > new upper fence 63\n",
        "# Display Outliers and Filtering Out the Outliers\n",
        "print(\"\\nDisplay Outliers\")\n",
        "print (german_credit_remOutliers[((german_credit_remOutliers[\"Age\"] < Lower_Fence_b) | (german_credit_remOutliers[\"Age\"] > Upper_Fence_b))])"
      ],
      "metadata": {
        "colab": {
          "base_uri": "https://localhost:8080/",
          "height": 289
        },
        "id": "m7615vUwcZCz",
        "outputId": "a6d0dac6-6f30-4461-9bec-74514ab4b8b9"
      },
      "execution_count": 23,
      "outputs": [
        {
          "output_type": "display_data",
          "data": {
            "text/plain": [
              "<IPython.core.display.HTML object>"
            ],
            "text/html": [
              "\n",
              "  <style>\n",
              "    pre {\n",
              "        white-space: pre-wrap;\n",
              "    }\n",
              "  </style>\n",
              "  "
            ]
          },
          "metadata": {}
        },
        {
          "output_type": "display_data",
          "data": {
            "text/plain": [
              "<IPython.core.display.HTML object>"
            ],
            "text/html": [
              "\n",
              "  <style>\n",
              "    pre {\n",
              "        white-space: pre-wrap;\n",
              "    }\n",
              "  </style>\n",
              "  "
            ]
          },
          "metadata": {}
        },
        {
          "output_type": "stream",
          "name": "stdout",
          "text": [
            "\n",
            "Display Outliers\n",
            "     Unnamed: 0  Unnamed: 1  Age     Sex  Job Housing Saving accounts  \\\n",
            "219         NaN         219   64  female    2     own          little   \n",
            "629         NaN         629   64    male    1     own             NaN   \n",
            "678         NaN         678   64    male    1    rent          little   \n",
            "976         NaN         976   64  female    2     own          little   \n",
            "987         NaN         987   64  female    2     own        moderate   \n",
            "\n",
            "    Checking account  Credit amount  Duration    Purpose  \n",
            "219              NaN           1364        10        car  \n",
            "629              NaN           3832         9  education  \n",
            "678           little           2384        24   radio/TV  \n",
            "976         moderate            753         6   radio/TV  \n",
            "987              NaN           1409        13   radio/TV  \n"
          ]
        }
      ]
    },
    {
      "cell_type": "markdown",
      "source": [
        "## 2. Data Integration"
      ],
      "metadata": {
        "id": "NQaqJ67TchAy"
      }
    },
    {
      "cell_type": "markdown",
      "source": [
        "Dataset:\n",
        "\n",
        "1. student.csv\n",
        "2. marks.csv"
      ],
      "metadata": {
        "id": "gwhVwU16cpi8"
      }
    },
    {
      "cell_type": "code",
      "source": [
        "# Import dataset\n",
        "import pandas as pd\n",
        "DATA_DIR_3 = \"/content/drive/MyDrive/WIA1006 Machine Learning (Data Preprocessing and Cleaning))/student.csv\"\n",
        "DATA_DIR_4 = \"/content/drive/MyDrive/WIA1006 Machine Learning (Data Preprocessing and Cleaning))/mark.csv\"\n",
        "student_df = pd.read_csv (DATA_DIR_3, header=0)\n",
        "marks_df = pd.read_csv (DATA_DIR_4, header=0)"
      ],
      "metadata": {
        "colab": {
          "base_uri": "https://localhost:8080/",
          "height": 17
        },
        "id": "d7J0bN2Ac7g6",
        "outputId": "02c0f9c3-b614-400e-a3b8-1c058e521305"
      },
      "execution_count": 24,
      "outputs": [
        {
          "output_type": "display_data",
          "data": {
            "text/plain": [
              "<IPython.core.display.HTML object>"
            ],
            "text/html": [
              "\n",
              "  <style>\n",
              "    pre {\n",
              "        white-space: pre-wrap;\n",
              "    }\n",
              "  </style>\n",
              "  "
            ]
          },
          "metadata": {}
        },
        {
          "output_type": "display_data",
          "data": {
            "text/plain": [
              "<IPython.core.display.HTML object>"
            ],
            "text/html": [
              "\n",
              "  <style>\n",
              "    pre {\n",
              "        white-space: pre-wrap;\n",
              "    }\n",
              "  </style>\n",
              "  "
            ]
          },
          "metadata": {}
        }
      ]
    },
    {
      "cell_type": "code",
      "source": [
        "#Checking of Data\n",
        "print (student_df.head())\n",
        "print (marks_df.head())\n",
        "\n",
        "# Merging of DataFrame using the pd.merge ()\n",
        "df = pd.merge(student_df, marks_df, on = \"Student_id\")\n",
        "print (df.head (10))"
      ],
      "metadata": {
        "colab": {
          "base_uri": "https://localhost:8080/",
          "height": 434
        },
        "id": "n1OuuPyJc9wi",
        "outputId": "557d2766-9dda-406b-d69b-893a4b3b5c60"
      },
      "execution_count": 25,
      "outputs": [
        {
          "output_type": "display_data",
          "data": {
            "text/plain": [
              "<IPython.core.display.HTML object>"
            ],
            "text/html": [
              "\n",
              "  <style>\n",
              "    pre {\n",
              "        white-space: pre-wrap;\n",
              "    }\n",
              "  </style>\n",
              "  "
            ]
          },
          "metadata": {}
        },
        {
          "output_type": "display_data",
          "data": {
            "text/plain": [
              "<IPython.core.display.HTML object>"
            ],
            "text/html": [
              "\n",
              "  <style>\n",
              "    pre {\n",
              "        white-space: pre-wrap;\n",
              "    }\n",
              "  </style>\n",
              "  "
            ]
          },
          "metadata": {}
        },
        {
          "output_type": "stream",
          "name": "stdout",
          "text": [
            "   Student_id  Age  Gender      Grade Employed\n",
            "0           1   19    Male  1st Class      yes\n",
            "1           2   20  Female  2nd Class       no\n",
            "2           3   18    Male  1st Class       no\n",
            "3           4   21  Female  2nd Class       no\n",
            "4           5   19    Male  1st Class       no\n",
            "   Student_id  Mark     City\n",
            "0           1    95  Chennai\n",
            "1           2    70    Delhi\n",
            "2           3    98   Mumbai\n",
            "3           4    75     Pune\n",
            "4           5    89    Kochi\n",
            "   Student_id  Age  Gender      Grade Employed  Mark     City\n",
            "0           1   19    Male  1st Class      yes    95  Chennai\n",
            "1           2   20  Female  2nd Class       no    70    Delhi\n",
            "2           3   18    Male  1st Class       no    98   Mumbai\n",
            "3           4   21  Female  2nd Class       no    75     Pune\n",
            "4           5   19    Male  1st Class       no    89    Kochi\n",
            "5           6   20    Male  2nd Class      yes    69  Gwalior\n",
            "6           7   19  Female  3rd Class      yes    52   Bhopal\n",
            "7           8   21    Male  3rd Class      yes    54  Chennai\n",
            "8           9   22  Female  3rd Class      yes    55    Delhi\n",
            "9          10   21    Male  1st Class       no    94   Mumbai\n"
          ]
        }
      ]
    },
    {
      "cell_type": "markdown",
      "source": [
        "## 3. Data Transformation"
      ],
      "metadata": {
        "id": "vg6kuLKXdBqI"
      }
    },
    {
      "cell_type": "markdown",
      "source": [
        "* Replacement of Categorical Data with Numbers (student.csv)\n",
        "* Label encoding (Banking_Marketing.csv)\n",
        "* Transforming Data of Different Scale (Wholesale customers data.csv)"
      ],
      "metadata": {
        "id": "IBALlvJudE-f"
      }
    },
    {
      "cell_type": "markdown",
      "source": [
        "Numerical Data\n",
        "* Discrete: Numerical data that is countable\n",
        "* Continuous: Numerical data that is measurable"
      ],
      "metadata": {
        "id": "07ZDwBu_dK95"
      }
    },
    {
      "cell_type": "markdown",
      "source": [
        "Categorical Data\n",
        "* Ordered: Categorical data that is orderly or structured\n",
        "* Nominal: Categorical data that has no order or structure"
      ],
      "metadata": {
        "id": "EZfCnSF7dRMM"
      }
    },
    {
      "cell_type": "markdown",
      "source": [
        "Dataset:\n",
        "1. student.csv\n",
        "2. Banking_Marketing.csv\n",
        "3. Wholesale customers data.csv"
      ],
      "metadata": {
        "id": "uHx1j4QldYOv"
      }
    },
    {
      "cell_type": "code",
      "source": [
        "import numpy as np\n",
        "\n",
        "# Separating Categorical Columns from Dataframe using select_dtypes()\n",
        "df_categorical = student_df.select_dtypes(exclude=[np.number]) # exclude numerical using numpy\n",
        "print(df_categorical)"
      ],
      "metadata": {
        "colab": {
          "base_uri": "https://localhost:8080/",
          "height": 271
        },
        "id": "tjcGYjardglZ",
        "outputId": "91e15b4c-bfb7-4baa-9c35-d51822601d47"
      },
      "execution_count": 26,
      "outputs": [
        {
          "output_type": "display_data",
          "data": {
            "text/plain": [
              "<IPython.core.display.HTML object>"
            ],
            "text/html": [
              "\n",
              "  <style>\n",
              "    pre {\n",
              "        white-space: pre-wrap;\n",
              "    }\n",
              "  </style>\n",
              "  "
            ]
          },
          "metadata": {}
        },
        {
          "output_type": "display_data",
          "data": {
            "text/plain": [
              "<IPython.core.display.HTML object>"
            ],
            "text/html": [
              "\n",
              "  <style>\n",
              "    pre {\n",
              "        white-space: pre-wrap;\n",
              "    }\n",
              "  </style>\n",
              "  "
            ]
          },
          "metadata": {}
        },
        {
          "output_type": "stream",
          "name": "stdout",
          "text": [
            "     Gender      Grade Employed\n",
            "0      Male  1st Class      yes\n",
            "1    Female  2nd Class       no\n",
            "2      Male  1st Class       no\n",
            "3    Female  2nd Class       no\n",
            "4      Male  1st Class       no\n",
            "..      ...        ...      ...\n",
            "227  Female  1st Class       no\n",
            "228    Male  2nd Class       no\n",
            "229    Male  3rd Class      yes\n",
            "230  Female  1st Class      yes\n",
            "231    Male  3rd Class      yes\n",
            "\n",
            "[232 rows x 3 columns]\n"
          ]
        }
      ]
    },
    {
      "cell_type": "markdown",
      "source": [
        "Finding the Frequency of Distribution to Each Categorical Column"
      ],
      "metadata": {
        "id": "ioSonv6sdjfc"
      }
    },
    {
      "cell_type": "code",
      "source": [
        "print(df_categorical['Grade'].unique())"
      ],
      "metadata": {
        "colab": {
          "base_uri": "https://localhost:8080/",
          "height": 35
        },
        "id": "pzeu1BVhdmc-",
        "outputId": "0b398aca-dc64-4f3f-d69c-43c5a02c7849"
      },
      "execution_count": 27,
      "outputs": [
        {
          "output_type": "display_data",
          "data": {
            "text/plain": [
              "<IPython.core.display.HTML object>"
            ],
            "text/html": [
              "\n",
              "  <style>\n",
              "    pre {\n",
              "        white-space: pre-wrap;\n",
              "    }\n",
              "  </style>\n",
              "  "
            ]
          },
          "metadata": {}
        },
        {
          "output_type": "display_data",
          "data": {
            "text/plain": [
              "<IPython.core.display.HTML object>"
            ],
            "text/html": [
              "\n",
              "  <style>\n",
              "    pre {\n",
              "        white-space: pre-wrap;\n",
              "    }\n",
              "  </style>\n",
              "  "
            ]
          },
          "metadata": {}
        },
        {
          "output_type": "stream",
          "name": "stdout",
          "text": [
            "['1st Class' '2nd Class' '3rd Class']\n"
          ]
        }
      ]
    },
    {
      "cell_type": "code",
      "source": [
        "print(df_categorical.Grade.value_counts())"
      ],
      "metadata": {
        "colab": {
          "base_uri": "https://localhost:8080/",
          "height": 108
        },
        "id": "WZKyuux2doEb",
        "outputId": "9c682b2c-7111-4c68-ae95-fc079c48116a"
      },
      "execution_count": 28,
      "outputs": [
        {
          "output_type": "display_data",
          "data": {
            "text/plain": [
              "<IPython.core.display.HTML object>"
            ],
            "text/html": [
              "\n",
              "  <style>\n",
              "    pre {\n",
              "        white-space: pre-wrap;\n",
              "    }\n",
              "  </style>\n",
              "  "
            ]
          },
          "metadata": {}
        },
        {
          "output_type": "display_data",
          "data": {
            "text/plain": [
              "<IPython.core.display.HTML object>"
            ],
            "text/html": [
              "\n",
              "  <style>\n",
              "    pre {\n",
              "        white-space: pre-wrap;\n",
              "    }\n",
              "  </style>\n",
              "  "
            ]
          },
          "metadata": {}
        },
        {
          "output_type": "stream",
          "name": "stdout",
          "text": [
            "Grade\n",
            "2nd Class    80\n",
            "3rd Class    80\n",
            "1st Class    72\n",
            "Name: count, dtype: int64\n"
          ]
        }
      ]
    },
    {
      "cell_type": "code",
      "source": [
        "print(df_categorical.Gender.value_counts())"
      ],
      "metadata": {
        "colab": {
          "base_uri": "https://localhost:8080/",
          "height": 90
        },
        "id": "Lzjo-CMhdqdH",
        "outputId": "88e04306-7932-4d80-ee42-bc67ace59e2b"
      },
      "execution_count": 29,
      "outputs": [
        {
          "output_type": "display_data",
          "data": {
            "text/plain": [
              "<IPython.core.display.HTML object>"
            ],
            "text/html": [
              "\n",
              "  <style>\n",
              "    pre {\n",
              "        white-space: pre-wrap;\n",
              "    }\n",
              "  </style>\n",
              "  "
            ]
          },
          "metadata": {}
        },
        {
          "output_type": "display_data",
          "data": {
            "text/plain": [
              "<IPython.core.display.HTML object>"
            ],
            "text/html": [
              "\n",
              "  <style>\n",
              "    pre {\n",
              "        white-space: pre-wrap;\n",
              "    }\n",
              "  </style>\n",
              "  "
            ]
          },
          "metadata": {}
        },
        {
          "output_type": "stream",
          "name": "stdout",
          "text": [
            "Gender\n",
            "Male      136\n",
            "Female     96\n",
            "Name: count, dtype: int64\n"
          ]
        }
      ]
    },
    {
      "cell_type": "code",
      "source": [
        "print(df_categorical.Employed.value_counts())"
      ],
      "metadata": {
        "colab": {
          "base_uri": "https://localhost:8080/",
          "height": 90
        },
        "id": "TrsqbTu4dt7U",
        "outputId": "e0530baf-5143-4b4b-d374-dea79f23f5c6"
      },
      "execution_count": 30,
      "outputs": [
        {
          "output_type": "display_data",
          "data": {
            "text/plain": [
              "<IPython.core.display.HTML object>"
            ],
            "text/html": [
              "\n",
              "  <style>\n",
              "    pre {\n",
              "        white-space: pre-wrap;\n",
              "    }\n",
              "  </style>\n",
              "  "
            ]
          },
          "metadata": {}
        },
        {
          "output_type": "display_data",
          "data": {
            "text/plain": [
              "<IPython.core.display.HTML object>"
            ],
            "text/html": [
              "\n",
              "  <style>\n",
              "    pre {\n",
              "        white-space: pre-wrap;\n",
              "    }\n",
              "  </style>\n",
              "  "
            ]
          },
          "metadata": {}
        },
        {
          "output_type": "stream",
          "name": "stdout",
          "text": [
            "Employed\n",
            "no     133\n",
            "yes     99\n",
            "Name: count, dtype: int64\n"
          ]
        }
      ]
    },
    {
      "cell_type": "markdown",
      "source": [
        "## 3.1 - Replacing Categorical Data with Numbers"
      ],
      "metadata": {
        "id": "VM-13bqGdw8b"
      }
    },
    {
      "cell_type": "markdown",
      "source": [
        "The following code may produce warning, but it's okay, still able to replace categorical data with numbers.\n",
        "\n",
        "Warning:\n",
        "\n",
        "A value is trying to be set on a copy of a slice from a DataFrame\n",
        "\n",
        "See the caveats in the documentation: https: ..."
      ],
      "metadata": {
        "id": "nmPlduREd1Ua"
      }
    },
    {
      "cell_type": "code",
      "source": [
        "df_categorical.Grade.replace({\"1st Class\": 1, \"2nd Class\": 2, \"3rd Class\": 3 }, inplace=True)"
      ],
      "metadata": {
        "colab": {
          "base_uri": "https://localhost:8080/",
          "height": 217
        },
        "id": "Dyq4UlMCd59u",
        "outputId": "40718fc9-82e3-43e0-c1db-8f55debee82b"
      },
      "execution_count": 31,
      "outputs": [
        {
          "output_type": "display_data",
          "data": {
            "text/plain": [
              "<IPython.core.display.HTML object>"
            ],
            "text/html": [
              "\n",
              "  <style>\n",
              "    pre {\n",
              "        white-space: pre-wrap;\n",
              "    }\n",
              "  </style>\n",
              "  "
            ]
          },
          "metadata": {}
        },
        {
          "output_type": "display_data",
          "data": {
            "text/plain": [
              "<IPython.core.display.HTML object>"
            ],
            "text/html": [
              "\n",
              "  <style>\n",
              "    pre {\n",
              "        white-space: pre-wrap;\n",
              "    }\n",
              "  </style>\n",
              "  "
            ]
          },
          "metadata": {}
        },
        {
          "output_type": "stream",
          "name": "stderr",
          "text": [
            "<ipython-input-31-99e940c07b7b>:1: FutureWarning: A value is trying to be set on a copy of a DataFrame or Series through chained assignment using an inplace method.\n",
            "The behavior will change in pandas 3.0. This inplace method will never work because the intermediate object on which we are setting values always behaves as a copy.\n",
            "\n",
            "For example, when doing 'df[col].method(value, inplace=True)', try using 'df.method({col: value}, inplace=True)' or df[col] = df[col].method(value) instead, to perform the operation inplace on the original object.\n",
            "\n",
            "\n",
            "  df_categorical.Grade.replace({\"1st Class\": 1, \"2nd Class\": 2, \"3rd Class\": 3 }, inplace=True)\n",
            "<ipython-input-31-99e940c07b7b>:1: FutureWarning: Downcasting behavior in `replace` is deprecated and will be removed in a future version. To retain the old behavior, explicitly call `result.infer_objects(copy=False)`. To opt-in to the future behavior, set `pd.set_option('future.no_silent_downcasting', True)`\n",
            "  df_categorical.Grade.replace({\"1st Class\": 1, \"2nd Class\": 2, \"3rd Class\": 3 }, inplace=True)\n"
          ]
        }
      ]
    },
    {
      "cell_type": "code",
      "source": [
        "df_categorical.Gender.replace({\"Male\": 0, \"Female\": 1}, inplace=True)"
      ],
      "metadata": {
        "colab": {
          "base_uri": "https://localhost:8080/",
          "height": 217
        },
        "id": "A8ICzOWFd6ph",
        "outputId": "4f24af68-d2b8-4512-eda2-f4d92c132f12"
      },
      "execution_count": 32,
      "outputs": [
        {
          "output_type": "display_data",
          "data": {
            "text/plain": [
              "<IPython.core.display.HTML object>"
            ],
            "text/html": [
              "\n",
              "  <style>\n",
              "    pre {\n",
              "        white-space: pre-wrap;\n",
              "    }\n",
              "  </style>\n",
              "  "
            ]
          },
          "metadata": {}
        },
        {
          "output_type": "display_data",
          "data": {
            "text/plain": [
              "<IPython.core.display.HTML object>"
            ],
            "text/html": [
              "\n",
              "  <style>\n",
              "    pre {\n",
              "        white-space: pre-wrap;\n",
              "    }\n",
              "  </style>\n",
              "  "
            ]
          },
          "metadata": {}
        },
        {
          "output_type": "stream",
          "name": "stderr",
          "text": [
            "<ipython-input-32-6536e30772fd>:1: FutureWarning: A value is trying to be set on a copy of a DataFrame or Series through chained assignment using an inplace method.\n",
            "The behavior will change in pandas 3.0. This inplace method will never work because the intermediate object on which we are setting values always behaves as a copy.\n",
            "\n",
            "For example, when doing 'df[col].method(value, inplace=True)', try using 'df.method({col: value}, inplace=True)' or df[col] = df[col].method(value) instead, to perform the operation inplace on the original object.\n",
            "\n",
            "\n",
            "  df_categorical.Gender.replace({\"Male\": 0, \"Female\": 1}, inplace=True)\n",
            "<ipython-input-32-6536e30772fd>:1: FutureWarning: Downcasting behavior in `replace` is deprecated and will be removed in a future version. To retain the old behavior, explicitly call `result.infer_objects(copy=False)`. To opt-in to the future behavior, set `pd.set_option('future.no_silent_downcasting', True)`\n",
            "  df_categorical.Gender.replace({\"Male\": 0, \"Female\": 1}, inplace=True)\n"
          ]
        }
      ]
    },
    {
      "cell_type": "code",
      "source": [
        "df_categorical.Employed.replace({\"yes\": 1, \"no\": 2}, inplace=True)\n",
        "print (df_categorical.head())"
      ],
      "metadata": {
        "colab": {
          "base_uri": "https://localhost:8080/",
          "height": 326
        },
        "id": "A9tAnHXQd970",
        "outputId": "8f376bfd-5c05-40d9-f02a-08254a152ea5"
      },
      "execution_count": 33,
      "outputs": [
        {
          "output_type": "display_data",
          "data": {
            "text/plain": [
              "<IPython.core.display.HTML object>"
            ],
            "text/html": [
              "\n",
              "  <style>\n",
              "    pre {\n",
              "        white-space: pre-wrap;\n",
              "    }\n",
              "  </style>\n",
              "  "
            ]
          },
          "metadata": {}
        },
        {
          "output_type": "display_data",
          "data": {
            "text/plain": [
              "<IPython.core.display.HTML object>"
            ],
            "text/html": [
              "\n",
              "  <style>\n",
              "    pre {\n",
              "        white-space: pre-wrap;\n",
              "    }\n",
              "  </style>\n",
              "  "
            ]
          },
          "metadata": {}
        },
        {
          "output_type": "stream",
          "name": "stdout",
          "text": [
            "   Gender  Grade  Employed\n",
            "0       0      1         1\n",
            "1       1      2         2\n",
            "2       0      1         2\n",
            "3       1      2         2\n",
            "4       0      1         2\n"
          ]
        },
        {
          "output_type": "stream",
          "name": "stderr",
          "text": [
            "<ipython-input-33-cfb9d68b434d>:1: FutureWarning: A value is trying to be set on a copy of a DataFrame or Series through chained assignment using an inplace method.\n",
            "The behavior will change in pandas 3.0. This inplace method will never work because the intermediate object on which we are setting values always behaves as a copy.\n",
            "\n",
            "For example, when doing 'df[col].method(value, inplace=True)', try using 'df.method({col: value}, inplace=True)' or df[col] = df[col].method(value) instead, to perform the operation inplace on the original object.\n",
            "\n",
            "\n",
            "  df_categorical.Employed.replace({\"yes\": 1, \"no\": 2}, inplace=True)\n",
            "<ipython-input-33-cfb9d68b434d>:1: FutureWarning: Downcasting behavior in `replace` is deprecated and will be removed in a future version. To retain the old behavior, explicitly call `result.infer_objects(copy=False)`. To opt-in to the future behavior, set `pd.set_option('future.no_silent_downcasting', True)`\n",
            "  df_categorical.Employed.replace({\"yes\": 1, \"no\": 2}, inplace=True)\n"
          ]
        }
      ]
    },
    {
      "cell_type": "markdown",
      "source": [
        "## 3.2 - Label Encoding"
      ],
      "metadata": {
        "id": "N7Q_O_7jeAH0"
      }
    },
    {
      "cell_type": "markdown",
      "source": [
        "This technique is used to replace each value in a categorical column with numbers from 0 to N-1.\n",
        "\n",
        "Dataset:\n",
        "\n",
        "* Banking_Marketing.csv\n",
        "(this dataset already imported previously and used as 'Banking_Marketing_df')"
      ],
      "metadata": {
        "id": "D6m0ob87eCeC"
      }
    },
    {
      "cell_type": "code",
      "source": [
        "# Read Dataset and import LabelEncoder from sklearn.preprocessing package\n",
        "from sklearn.preprocessing import LabelEncoder\n",
        "\n",
        "print (Banking_Marketing_df.head())"
      ],
      "metadata": {
        "colab": {
          "base_uri": "https://localhost:8080/",
          "height": 416
        },
        "id": "9DVmS-XAeJrK",
        "outputId": "c6230e98-b572-431c-e7ef-496f35103921"
      },
      "execution_count": 34,
      "outputs": [
        {
          "output_type": "display_data",
          "data": {
            "text/plain": [
              "<IPython.core.display.HTML object>"
            ],
            "text/html": [
              "\n",
              "  <style>\n",
              "    pre {\n",
              "        white-space: pre-wrap;\n",
              "    }\n",
              "  </style>\n",
              "  "
            ]
          },
          "metadata": {}
        },
        {
          "output_type": "display_data",
          "data": {
            "text/plain": [
              "<IPython.core.display.HTML object>"
            ],
            "text/html": [
              "\n",
              "  <style>\n",
              "    pre {\n",
              "        white-space: pre-wrap;\n",
              "    }\n",
              "  </style>\n",
              "  "
            ]
          },
          "metadata": {}
        },
        {
          "output_type": "stream",
          "name": "stdout",
          "text": [
            "    age          job  marital          education  default housing loan  \\\n",
            "0  44.0  blue-collar  married           basic.4y  unknown     yes   no   \n",
            "1  53.0   technician  married            unknown       no      no   no   \n",
            "2  28.0   management   single  university.degree       no     yes   no   \n",
            "3  39.0     services  married        high.school       no      no   no   \n",
            "4  55.0      retired  married           basic.4y       no     yes   no   \n",
            "\n",
            "    contact month day_of_week  ...  campaign  pdays  previous     poutcome  \\\n",
            "0  cellular   aug         thu  ...         1    999         0  nonexistent   \n",
            "1  cellular   nov         fri  ...         1    999         0  nonexistent   \n",
            "2  cellular   jun         thu  ...         3      6         2      success   \n",
            "3  cellular   apr         fri  ...         2    999         0  nonexistent   \n",
            "4  cellular   aug         fri  ...         1      3         1      success   \n",
            "\n",
            "  emp_var_rate  cons_price_idx  cons_conf_idx  euribor3m  nr_employed  y  \n",
            "0          1.4          93.444          -36.1      4.963       5228.1  0  \n",
            "1         -0.1          93.200          -42.0      4.021       5195.8  0  \n",
            "2         -1.7          94.055          -39.8      0.729       4991.6  1  \n",
            "3         -1.8          93.075          -47.1      1.405       5099.1  0  \n",
            "4         -2.9          92.201          -31.4      0.869       5076.2  1  \n",
            "\n",
            "[5 rows x 21 columns]\n"
          ]
        }
      ]
    },
    {
      "cell_type": "code",
      "source": [
        "# Remove Missing Data\n",
        "Banking_Marketing_df = Banking_Marketing_df.dropna()"
      ],
      "metadata": {
        "colab": {
          "base_uri": "https://localhost:8080/",
          "height": 17
        },
        "id": "uOOwBaEceLrU",
        "outputId": "89f08b71-e1da-41e4-a564-38780fe8a580"
      },
      "execution_count": 35,
      "outputs": [
        {
          "output_type": "display_data",
          "data": {
            "text/plain": [
              "<IPython.core.display.HTML object>"
            ],
            "text/html": [
              "\n",
              "  <style>\n",
              "    pre {\n",
              "        white-space: pre-wrap;\n",
              "    }\n",
              "  </style>\n",
              "  "
            ]
          },
          "metadata": {}
        },
        {
          "output_type": "display_data",
          "data": {
            "text/plain": [
              "<IPython.core.display.HTML object>"
            ],
            "text/html": [
              "\n",
              "  <style>\n",
              "    pre {\n",
              "        white-space: pre-wrap;\n",
              "    }\n",
              "  </style>\n",
              "  "
            ]
          },
          "metadata": {}
        }
      ]
    },
    {
      "cell_type": "code",
      "source": [
        "# Select Non-Numerical Columns\n",
        "data_column_category = Banking_Marketing_df.select_dtypes (exclude=[np.number]).columns\n",
        "print (data_column_category)\n",
        "print (Banking_Marketing_df[data_column_category].head())"
      ],
      "metadata": {
        "colab": {
          "base_uri": "https://localhost:8080/",
          "height": 307
        },
        "id": "y_BnokufeNKF",
        "outputId": "67e058d7-ee46-40b7-b31b-531747446974"
      },
      "execution_count": 36,
      "outputs": [
        {
          "output_type": "display_data",
          "data": {
            "text/plain": [
              "<IPython.core.display.HTML object>"
            ],
            "text/html": [
              "\n",
              "  <style>\n",
              "    pre {\n",
              "        white-space: pre-wrap;\n",
              "    }\n",
              "  </style>\n",
              "  "
            ]
          },
          "metadata": {}
        },
        {
          "output_type": "display_data",
          "data": {
            "text/plain": [
              "<IPython.core.display.HTML object>"
            ],
            "text/html": [
              "\n",
              "  <style>\n",
              "    pre {\n",
              "        white-space: pre-wrap;\n",
              "    }\n",
              "  </style>\n",
              "  "
            ]
          },
          "metadata": {}
        },
        {
          "output_type": "stream",
          "name": "stdout",
          "text": [
            "Index(['job', 'marital', 'education', 'default', 'housing', 'loan', 'contact',\n",
            "       'month', 'day_of_week', 'poutcome'],\n",
            "      dtype='object')\n",
            "           job  marital          education  default housing loan   contact  \\\n",
            "0  blue-collar  married           basic.4y  unknown     yes   no  cellular   \n",
            "1   technician  married            unknown       no      no   no  cellular   \n",
            "2   management   single  university.degree       no     yes   no  cellular   \n",
            "3     services  married        high.school       no      no   no  cellular   \n",
            "4      retired  married           basic.4y       no     yes   no  cellular   \n",
            "\n",
            "  month day_of_week     poutcome  \n",
            "0   aug         thu  nonexistent  \n",
            "1   nov         fri  nonexistent  \n",
            "2   jun         thu      success  \n",
            "3   apr         fri  nonexistent  \n",
            "4   aug         fri      success  \n"
          ]
        }
      ]
    },
    {
      "cell_type": "code",
      "source": [
        "# Iterate through column to convert to numeric data using LabelEncoder ()\n",
        "label_encoder = LabelEncoder()\n",
        "for i in data_column_category:\n",
        "    Banking_Marketing_df[i] = label_encoder.fit_transform (Banking_Marketing_df[i])"
      ],
      "metadata": {
        "colab": {
          "base_uri": "https://localhost:8080/",
          "height": 17
        },
        "id": "HnQhx6ByeOwK",
        "outputId": "c4ea54c7-125a-4ea8-a9cb-e640fefd8f47"
      },
      "execution_count": 37,
      "outputs": [
        {
          "output_type": "display_data",
          "data": {
            "text/plain": [
              "<IPython.core.display.HTML object>"
            ],
            "text/html": [
              "\n",
              "  <style>\n",
              "    pre {\n",
              "        white-space: pre-wrap;\n",
              "    }\n",
              "  </style>\n",
              "  "
            ]
          },
          "metadata": {}
        },
        {
          "output_type": "display_data",
          "data": {
            "text/plain": [
              "<IPython.core.display.HTML object>"
            ],
            "text/html": [
              "\n",
              "  <style>\n",
              "    pre {\n",
              "        white-space: pre-wrap;\n",
              "    }\n",
              "  </style>\n",
              "  "
            ]
          },
          "metadata": {}
        }
      ]
    },
    {
      "cell_type": "code",
      "source": [
        "print(\"Label Encoder Data:\")\n",
        "print(Banking_Marketing_df.head())"
      ],
      "metadata": {
        "colab": {
          "base_uri": "https://localhost:8080/",
          "height": 434
        },
        "id": "hFdCJ_K9eROU",
        "outputId": "2f6489c1-9de1-4c24-be72-e8e869f152ac"
      },
      "execution_count": 38,
      "outputs": [
        {
          "output_type": "display_data",
          "data": {
            "text/plain": [
              "<IPython.core.display.HTML object>"
            ],
            "text/html": [
              "\n",
              "  <style>\n",
              "    pre {\n",
              "        white-space: pre-wrap;\n",
              "    }\n",
              "  </style>\n",
              "  "
            ]
          },
          "metadata": {}
        },
        {
          "output_type": "display_data",
          "data": {
            "text/plain": [
              "<IPython.core.display.HTML object>"
            ],
            "text/html": [
              "\n",
              "  <style>\n",
              "    pre {\n",
              "        white-space: pre-wrap;\n",
              "    }\n",
              "  </style>\n",
              "  "
            ]
          },
          "metadata": {}
        },
        {
          "output_type": "stream",
          "name": "stdout",
          "text": [
            "Label Encoder Data:\n",
            "    age  job  marital  education  default  housing  loan  contact  month  \\\n",
            "0  44.0    1        1          1        1        2     1        0      1   \n",
            "1  53.0    9        1          8        0        0     1        0      7   \n",
            "2  28.0    4        2          7        0        2     1        0      4   \n",
            "3  39.0    7        1          4        0        0     1        0      0   \n",
            "4  55.0    5        1          1        0        2     1        0      1   \n",
            "\n",
            "   day_of_week  ...  campaign  pdays  previous  poutcome  emp_var_rate  \\\n",
            "0            2  ...         1    999         0         1           1.4   \n",
            "1            0  ...         1    999         0         1          -0.1   \n",
            "2            2  ...         3      6         2         2          -1.7   \n",
            "3            0  ...         2    999         0         1          -1.8   \n",
            "4            0  ...         1      3         1         2          -2.9   \n",
            "\n",
            "   cons_price_idx  cons_conf_idx  euribor3m  nr_employed  y  \n",
            "0          93.444          -36.1      4.963       5228.1  0  \n",
            "1          93.200          -42.0      4.021       5195.8  0  \n",
            "2          94.055          -39.8      0.729       4991.6  1  \n",
            "3          93.075          -47.1      1.405       5099.1  0  \n",
            "4          92.201          -31.4      0.869       5076.2  1  \n",
            "\n",
            "[5 rows x 21 columns]\n"
          ]
        }
      ]
    },
    {
      "cell_type": "markdown",
      "source": [
        "## 3.3 - Transforming Data of Different Scale"
      ],
      "metadata": {
        "id": "pl_eQgUpeSPn"
      }
    },
    {
      "cell_type": "markdown",
      "source": [
        "Dataset:\n",
        "* Wholesale customers data.csv"
      ],
      "metadata": {
        "id": "UQZOb-2ZeVeY"
      }
    },
    {
      "cell_type": "code",
      "source": [
        "DATA_DIR_5 = \"/content/gdrive/MyDrive/Colab Notebooks/210412-ITS70304/Wholesale customers data.csv\""
      ],
      "metadata": {
        "colab": {
          "base_uri": "https://localhost:8080/",
          "height": 17
        },
        "id": "r9kuK-eWedZ8",
        "outputId": "2a29ac75-97ee-4c9d-cf65-24897c5e3679"
      },
      "execution_count": 39,
      "outputs": [
        {
          "output_type": "display_data",
          "data": {
            "text/plain": [
              "<IPython.core.display.HTML object>"
            ],
            "text/html": [
              "\n",
              "  <style>\n",
              "    pre {\n",
              "        white-space: pre-wrap;\n",
              "    }\n",
              "  </style>\n",
              "  "
            ]
          },
          "metadata": {}
        },
        {
          "output_type": "display_data",
          "data": {
            "text/plain": [
              "<IPython.core.display.HTML object>"
            ],
            "text/html": [
              "\n",
              "  <style>\n",
              "    pre {\n",
              "        white-space: pre-wrap;\n",
              "    }\n",
              "  </style>\n",
              "  "
            ]
          },
          "metadata": {}
        }
      ]
    },
    {
      "cell_type": "code",
      "source": [
        "# Read Dataset\n",
        "from sklearn import preprocessing\n",
        "WholesaleData_df = pd.read_csv (DATA_DIR_5, header=0)\n",
        "print (WholesaleData_df.head())"
      ],
      "metadata": {
        "colab": {
          "base_uri": "https://localhost:8080/",
          "height": 351
        },
        "id": "ow7yT2j4efkg",
        "outputId": "9258cb30-3c2c-4ce2-ec97-6a84d681a2ff"
      },
      "execution_count": 40,
      "outputs": [
        {
          "output_type": "display_data",
          "data": {
            "text/plain": [
              "<IPython.core.display.HTML object>"
            ],
            "text/html": [
              "\n",
              "  <style>\n",
              "    pre {\n",
              "        white-space: pre-wrap;\n",
              "    }\n",
              "  </style>\n",
              "  "
            ]
          },
          "metadata": {}
        },
        {
          "output_type": "display_data",
          "data": {
            "text/plain": [
              "<IPython.core.display.HTML object>"
            ],
            "text/html": [
              "\n",
              "  <style>\n",
              "    pre {\n",
              "        white-space: pre-wrap;\n",
              "    }\n",
              "  </style>\n",
              "  "
            ]
          },
          "metadata": {}
        },
        {
          "output_type": "error",
          "ename": "FileNotFoundError",
          "evalue": "[Errno 2] No such file or directory: '/content/gdrive/MyDrive/Colab Notebooks/210412-ITS70304/Wholesale customers data.csv'",
          "traceback": [
            "\u001b[0;31m---------------------------------------------------------------------------\u001b[0m",
            "\u001b[0;31mFileNotFoundError\u001b[0m                         Traceback (most recent call last)",
            "\u001b[0;32m<ipython-input-40-3298c67a1a90>\u001b[0m in \u001b[0;36m<cell line: 0>\u001b[0;34m()\u001b[0m\n\u001b[1;32m      1\u001b[0m \u001b[0;31m# Read Dataset\u001b[0m\u001b[0;34m\u001b[0m\u001b[0;34m\u001b[0m\u001b[0m\n\u001b[1;32m      2\u001b[0m \u001b[0;32mfrom\u001b[0m \u001b[0msklearn\u001b[0m \u001b[0;32mimport\u001b[0m \u001b[0mpreprocessing\u001b[0m\u001b[0;34m\u001b[0m\u001b[0;34m\u001b[0m\u001b[0m\n\u001b[0;32m----> 3\u001b[0;31m \u001b[0mWholesaleData_df\u001b[0m \u001b[0;34m=\u001b[0m \u001b[0mpd\u001b[0m\u001b[0;34m.\u001b[0m\u001b[0mread_csv\u001b[0m \u001b[0;34m(\u001b[0m\u001b[0mDATA_DIR_5\u001b[0m\u001b[0;34m,\u001b[0m \u001b[0mheader\u001b[0m\u001b[0;34m=\u001b[0m\u001b[0;36m0\u001b[0m\u001b[0;34m)\u001b[0m\u001b[0;34m\u001b[0m\u001b[0;34m\u001b[0m\u001b[0m\n\u001b[0m\u001b[1;32m      4\u001b[0m \u001b[0mprint\u001b[0m \u001b[0;34m(\u001b[0m\u001b[0mWholesaleData_df\u001b[0m\u001b[0;34m.\u001b[0m\u001b[0mhead\u001b[0m\u001b[0;34m(\u001b[0m\u001b[0;34m)\u001b[0m\u001b[0;34m)\u001b[0m\u001b[0;34m\u001b[0m\u001b[0;34m\u001b[0m\u001b[0m\n",
            "\u001b[0;32m/usr/local/lib/python3.11/dist-packages/pandas/io/parsers/readers.py\u001b[0m in \u001b[0;36mread_csv\u001b[0;34m(filepath_or_buffer, sep, delimiter, header, names, index_col, usecols, dtype, engine, converters, true_values, false_values, skipinitialspace, skiprows, skipfooter, nrows, na_values, keep_default_na, na_filter, verbose, skip_blank_lines, parse_dates, infer_datetime_format, keep_date_col, date_parser, date_format, dayfirst, cache_dates, iterator, chunksize, compression, thousands, decimal, lineterminator, quotechar, quoting, doublequote, escapechar, comment, encoding, encoding_errors, dialect, on_bad_lines, delim_whitespace, low_memory, memory_map, float_precision, storage_options, dtype_backend)\u001b[0m\n\u001b[1;32m   1024\u001b[0m     \u001b[0mkwds\u001b[0m\u001b[0;34m.\u001b[0m\u001b[0mupdate\u001b[0m\u001b[0;34m(\u001b[0m\u001b[0mkwds_defaults\u001b[0m\u001b[0;34m)\u001b[0m\u001b[0;34m\u001b[0m\u001b[0;34m\u001b[0m\u001b[0m\n\u001b[1;32m   1025\u001b[0m \u001b[0;34m\u001b[0m\u001b[0m\n\u001b[0;32m-> 1026\u001b[0;31m     \u001b[0;32mreturn\u001b[0m \u001b[0m_read\u001b[0m\u001b[0;34m(\u001b[0m\u001b[0mfilepath_or_buffer\u001b[0m\u001b[0;34m,\u001b[0m \u001b[0mkwds\u001b[0m\u001b[0;34m)\u001b[0m\u001b[0;34m\u001b[0m\u001b[0;34m\u001b[0m\u001b[0m\n\u001b[0m\u001b[1;32m   1027\u001b[0m \u001b[0;34m\u001b[0m\u001b[0m\n\u001b[1;32m   1028\u001b[0m \u001b[0;34m\u001b[0m\u001b[0m\n",
            "\u001b[0;32m/usr/local/lib/python3.11/dist-packages/pandas/io/parsers/readers.py\u001b[0m in \u001b[0;36m_read\u001b[0;34m(filepath_or_buffer, kwds)\u001b[0m\n\u001b[1;32m    618\u001b[0m \u001b[0;34m\u001b[0m\u001b[0m\n\u001b[1;32m    619\u001b[0m     \u001b[0;31m# Create the parser.\u001b[0m\u001b[0;34m\u001b[0m\u001b[0;34m\u001b[0m\u001b[0m\n\u001b[0;32m--> 620\u001b[0;31m     \u001b[0mparser\u001b[0m \u001b[0;34m=\u001b[0m \u001b[0mTextFileReader\u001b[0m\u001b[0;34m(\u001b[0m\u001b[0mfilepath_or_buffer\u001b[0m\u001b[0;34m,\u001b[0m \u001b[0;34m**\u001b[0m\u001b[0mkwds\u001b[0m\u001b[0;34m)\u001b[0m\u001b[0;34m\u001b[0m\u001b[0;34m\u001b[0m\u001b[0m\n\u001b[0m\u001b[1;32m    621\u001b[0m \u001b[0;34m\u001b[0m\u001b[0m\n\u001b[1;32m    622\u001b[0m     \u001b[0;32mif\u001b[0m \u001b[0mchunksize\u001b[0m \u001b[0;32mor\u001b[0m \u001b[0miterator\u001b[0m\u001b[0;34m:\u001b[0m\u001b[0;34m\u001b[0m\u001b[0;34m\u001b[0m\u001b[0m\n",
            "\u001b[0;32m/usr/local/lib/python3.11/dist-packages/pandas/io/parsers/readers.py\u001b[0m in \u001b[0;36m__init__\u001b[0;34m(self, f, engine, **kwds)\u001b[0m\n\u001b[1;32m   1618\u001b[0m \u001b[0;34m\u001b[0m\u001b[0m\n\u001b[1;32m   1619\u001b[0m         \u001b[0mself\u001b[0m\u001b[0;34m.\u001b[0m\u001b[0mhandles\u001b[0m\u001b[0;34m:\u001b[0m \u001b[0mIOHandles\u001b[0m \u001b[0;34m|\u001b[0m \u001b[0;32mNone\u001b[0m \u001b[0;34m=\u001b[0m \u001b[0;32mNone\u001b[0m\u001b[0;34m\u001b[0m\u001b[0;34m\u001b[0m\u001b[0m\n\u001b[0;32m-> 1620\u001b[0;31m         \u001b[0mself\u001b[0m\u001b[0;34m.\u001b[0m\u001b[0m_engine\u001b[0m \u001b[0;34m=\u001b[0m \u001b[0mself\u001b[0m\u001b[0;34m.\u001b[0m\u001b[0m_make_engine\u001b[0m\u001b[0;34m(\u001b[0m\u001b[0mf\u001b[0m\u001b[0;34m,\u001b[0m \u001b[0mself\u001b[0m\u001b[0;34m.\u001b[0m\u001b[0mengine\u001b[0m\u001b[0;34m)\u001b[0m\u001b[0;34m\u001b[0m\u001b[0;34m\u001b[0m\u001b[0m\n\u001b[0m\u001b[1;32m   1621\u001b[0m \u001b[0;34m\u001b[0m\u001b[0m\n\u001b[1;32m   1622\u001b[0m     \u001b[0;32mdef\u001b[0m \u001b[0mclose\u001b[0m\u001b[0;34m(\u001b[0m\u001b[0mself\u001b[0m\u001b[0;34m)\u001b[0m \u001b[0;34m->\u001b[0m \u001b[0;32mNone\u001b[0m\u001b[0;34m:\u001b[0m\u001b[0;34m\u001b[0m\u001b[0;34m\u001b[0m\u001b[0m\n",
            "\u001b[0;32m/usr/local/lib/python3.11/dist-packages/pandas/io/parsers/readers.py\u001b[0m in \u001b[0;36m_make_engine\u001b[0;34m(self, f, engine)\u001b[0m\n\u001b[1;32m   1878\u001b[0m                 \u001b[0;32mif\u001b[0m \u001b[0;34m\"b\"\u001b[0m \u001b[0;32mnot\u001b[0m \u001b[0;32min\u001b[0m \u001b[0mmode\u001b[0m\u001b[0;34m:\u001b[0m\u001b[0;34m\u001b[0m\u001b[0;34m\u001b[0m\u001b[0m\n\u001b[1;32m   1879\u001b[0m                     \u001b[0mmode\u001b[0m \u001b[0;34m+=\u001b[0m \u001b[0;34m\"b\"\u001b[0m\u001b[0;34m\u001b[0m\u001b[0;34m\u001b[0m\u001b[0m\n\u001b[0;32m-> 1880\u001b[0;31m             self.handles = get_handle(\n\u001b[0m\u001b[1;32m   1881\u001b[0m                 \u001b[0mf\u001b[0m\u001b[0;34m,\u001b[0m\u001b[0;34m\u001b[0m\u001b[0;34m\u001b[0m\u001b[0m\n\u001b[1;32m   1882\u001b[0m                 \u001b[0mmode\u001b[0m\u001b[0;34m,\u001b[0m\u001b[0;34m\u001b[0m\u001b[0;34m\u001b[0m\u001b[0m\n",
            "\u001b[0;32m/usr/local/lib/python3.11/dist-packages/pandas/io/common.py\u001b[0m in \u001b[0;36mget_handle\u001b[0;34m(path_or_buf, mode, encoding, compression, memory_map, is_text, errors, storage_options)\u001b[0m\n\u001b[1;32m    871\u001b[0m         \u001b[0;32mif\u001b[0m \u001b[0mioargs\u001b[0m\u001b[0;34m.\u001b[0m\u001b[0mencoding\u001b[0m \u001b[0;32mand\u001b[0m \u001b[0;34m\"b\"\u001b[0m \u001b[0;32mnot\u001b[0m \u001b[0;32min\u001b[0m \u001b[0mioargs\u001b[0m\u001b[0;34m.\u001b[0m\u001b[0mmode\u001b[0m\u001b[0;34m:\u001b[0m\u001b[0;34m\u001b[0m\u001b[0;34m\u001b[0m\u001b[0m\n\u001b[1;32m    872\u001b[0m             \u001b[0;31m# Encoding\u001b[0m\u001b[0;34m\u001b[0m\u001b[0;34m\u001b[0m\u001b[0m\n\u001b[0;32m--> 873\u001b[0;31m             handle = open(\n\u001b[0m\u001b[1;32m    874\u001b[0m                 \u001b[0mhandle\u001b[0m\u001b[0;34m,\u001b[0m\u001b[0;34m\u001b[0m\u001b[0;34m\u001b[0m\u001b[0m\n\u001b[1;32m    875\u001b[0m                 \u001b[0mioargs\u001b[0m\u001b[0;34m.\u001b[0m\u001b[0mmode\u001b[0m\u001b[0;34m,\u001b[0m\u001b[0;34m\u001b[0m\u001b[0;34m\u001b[0m\u001b[0m\n",
            "\u001b[0;31mFileNotFoundError\u001b[0m: [Errno 2] No such file or directory: '/content/gdrive/MyDrive/Colab Notebooks/210412-ITS70304/Wholesale customers data.csv'"
          ]
        }
      ]
    },
    {
      "cell_type": "code",
      "source": [
        "null_ = WholesaleData_df.isna().any()"
      ],
      "metadata": {
        "id": "MyGcVQxweg4X"
      },
      "execution_count": null,
      "outputs": []
    },
    {
      "cell_type": "code",
      "source": [
        "dtypes = WholesaleData_df.dtypes"
      ],
      "metadata": {
        "id": "r76X54gHehhN"
      },
      "execution_count": null,
      "outputs": []
    },
    {
      "cell_type": "code",
      "source": [
        "# Check for Missing Data\n",
        "null_ = WholesaleData_df.isna().any()\n",
        "dtypes = WholesaleData_df.dtypes\n",
        "info = pd.concat ([null_,dtypes], axis = 1, keys = ['Null', 'type'])\n",
        "print(info) # This is different way of viewing data"
      ],
      "metadata": {
        "id": "e0inhnkhejcW"
      },
      "execution_count": null,
      "outputs": []
    },
    {
      "cell_type": "code",
      "source": [
        "# Perform Standard Scaling and Implement fit_transform () method\n",
        "std_scale = preprocessing.StandardScaler().fit_transform (WholesaleData_df)\n",
        "scaled_frame = pd.DataFrame (std_scale, columns = WholesaleData_df.columns)\n",
        "print (scaled_frame.head(25))\n"
      ],
      "metadata": {
        "id": "4lnDhnSPerPz"
      },
      "execution_count": null,
      "outputs": []
    },
    {
      "cell_type": "code",
      "source": [
        "# Using MinMax Scaler Method\n",
        "minmax_scale = preprocessing.MinMaxScaler().fit_transform (WholesaleData_df)\n",
        "scaled_frame = pd.DataFrame (minmax_scale, columns = WholesaleData_df.columns)\n",
        "print (scaled_frame.head())"
      ],
      "metadata": {
        "id": "Dtr_3IMlevQn"
      },
      "execution_count": null,
      "outputs": []
    },
    {
      "cell_type": "markdown",
      "source": [
        "## 4. Data Discretization"
      ],
      "metadata": {
        "id": "HJw_MZeceyUM"
      }
    },
    {
      "cell_type": "markdown",
      "source": [
        "A process of converting continuous data into discrete buckets by grouping it.\n",
        "\n",
        "Benefits of Data Discretization:\n",
        "\n",
        "* Easy maintainability of data\n",
        "* Training of Machine Learning models will be faster and more effective\n",
        "\n",
        "Dataset: Student_bucketing.csv"
      ],
      "metadata": {
        "id": "Y3IWRgDFez3y"
      }
    },
    {
      "cell_type": "code",
      "source": [
        "DATA_DIR_6 = \"/content/gdrive/MyDrive/Colab Notebooks/210412-ITS70304/Student_bucketing.csv\""
      ],
      "metadata": {
        "id": "Hhjk4PZSe94o"
      },
      "execution_count": null,
      "outputs": []
    },
    {
      "cell_type": "code",
      "source": [
        "StudentBucketing_df = pd.read_csv (DATA_DIR_6, header=0)\n",
        "print (StudentBucketing_df.head())"
      ],
      "metadata": {
        "id": "ke0t2dZje-hu"
      },
      "execution_count": null,
      "outputs": []
    },
    {
      "cell_type": "code",
      "source": [
        "# Perform Bucketing using pd.cut ()\n",
        "StudentBucketing_df['bucket']=pd.cut(StudentBucketing_df['marks'], 5, labels = ['Poor', 'Below_average', 'Average', 'Above_Average','Excellent'])"
      ],
      "metadata": {
        "id": "kvDFptZmfA-h"
      },
      "execution_count": null,
      "outputs": []
    },
    {
      "cell_type": "code",
      "source": [
        "print (StudentBucketing_df.head(10))"
      ],
      "metadata": {
        "id": "oK2aUcmffCi7"
      },
      "execution_count": null,
      "outputs": []
    },
    {
      "cell_type": "code",
      "source": [
        "# Perform Bucketing using pd.cut ()\n",
        "StudentBucketing_df['bucket']=pd.cut(StudentBucketing_df['marks'], 3, labels = ['Poor', 'Average', 'Excellent'])\n",
        "print (StudentBucketing_df.head(10))"
      ],
      "metadata": {
        "id": "iG_3xrnyfEE9"
      },
      "execution_count": null,
      "outputs": []
    }
  ]
}